{
 "cells": [
  {
   "cell_type": "code",
   "execution_count": 76,
   "metadata": {
    "collapsed": true
   },
   "outputs": [],
   "source": [
    "import ads\n",
    "\n",
    "from markov import *\n",
    "from string import digits\n",
    "\n",
    "import warnings"
   ]
  },
  {
   "cell_type": "markdown",
   "metadata": {},
   "source": [
    "# abstract.ipynb \n",
    "\n",
    "## This Jupyter Python 2.7 notebook searches ADS for papers related to your favourite keyword, author or whatever you like really, and generates abstracts that look like the results using a Markov model."
   ]
  },
  {
   "cell_type": "code",
   "execution_count": 89,
   "metadata": {
    "collapsed": true
   },
   "outputs": [],
   "source": [
    "query= '^pope,benjamin j. s.'\n",
    "\n",
    "depth = 3\n",
    "\n",
    "name = 'test'"
   ]
  },
  {
   "cell_type": "code",
   "execution_count": 90,
   "metadata": {
    "collapsed": false
   },
   "outputs": [],
   "source": [
    "papers = ads.SearchQuery(q=query, sort=\"citation_count\")\n",
    "\n",
    "abstracts = ''\n",
    "\n",
    "with warnings.catch_warnings():\n",
    "    warnings.simplefilter(\"ignore\")\n",
    "    for paper in papers:\n",
    "        try:\n",
    "            abstracts += '\\n'\n",
    "            abstracts += paper.abstract\n",
    "        except:\n",
    "            pass"
   ]
  },
  {
   "cell_type": "code",
   "execution_count": 94,
   "metadata": {
    "collapsed": false
   },
   "outputs": [],
   "source": [
    "# print abstracts\n",
    "# print abstracts\n",
    "# abstracts.translate({ord(k): None for k in '<>~\\_%^{}'}"
   ]
  },
  {
   "cell_type": "code",
   "execution_count": 95,
   "metadata": {
    "collapsed": false
   },
   "outputs": [],
   "source": [
    "db = Db(sqlite3.connect(name + '.db'), Sql())\n",
    "\n",
    "db.setup(depth)\n",
    "\n",
    "Parser(name, db, SENTENCE_SEPARATOR, WORD_SEPARATOR).parse(abstracts)"
   ]
  },
  {
   "cell_type": "code",
   "execution_count": 101,
   "metadata": {
    "collapsed": false
   },
   "outputs": [
    {
     "name": "stdout",
     "output_type": "stream",
     "text": [
      "We detect 147 single-planet system candidates and present the first observation in which kernel phase based `asymmetric pupil Fourier wavefront sensing' scheme to ground-based AO-corrected integral field spectroscopy, whereby an asymmetric mask in the wavefront affect the dynamic range of a wavefront sensor. Here we present a direct comparison between kernel phase and the red giant HR 8500 displaying solar-like oscillations. These encouraging results suggest this new method can be applied to space-based and AO-assisted imaging, in which a phase map which can be applied to most Kepler and K2 fields. The Hubble observations are associated with proposal ID 10143 and 10879 and were obtained at the Space Telescope primary and as a future direction for extreme AO. This requires two key conditions be satisfied: the first, that phase errors due to non-common-path aberrations not sensed by the kernel phase approach in the optical path, or by imperfectly phased subapertures in a single image are sufficient to map aberrations up to high order, including non-common-path error. As these fields contain many more bright stars than the original Kepler field, K2 provides an unprecedented opportunity to study nearby objects amenable to detailed follow-up with ground-based extreme adaptive optics post-processing technique, called kernel-phase interferometry, uses linear combinations of phases that are robust against the residual optical aberrations in the recovery of companions within a few resolution elements of the pupil, using the science camera itself to detect high-order wavefront errors from the K2 mission, and present revised astrometry on previously known binaries, all of which were recovered with the NASA/ESA Hubble Space Telescope's NICMOS NIC1 instrument. At present, the principal limitation on the wavefront error estimate, and the more established competing techniques, aperture masking interferometry, point spread function and residual wavefront errors from the K2 pointing systematics and simultaneously model stellar variability. \n"
     ]
    }
   ],
   "source": [
    "generator = Generator(name, db, Rnd())\n",
    "count = 7\n",
    "newtext = ''\n",
    "\n",
    "for i in range(0, count):\n",
    "    \n",
    "    newtext += generator.generate(WORD_SEPARATOR)+'. '\n",
    "    \n",
    "print newtext"
   ]
  },
  {
   "cell_type": "code",
   "execution_count": null,
   "metadata": {
    "collapsed": false
   },
   "outputs": [],
   "source": []
  },
  {
   "cell_type": "code",
   "execution_count": null,
   "metadata": {
    "collapsed": true
   },
   "outputs": [],
   "source": []
  }
 ],
 "metadata": {
  "kernelspec": {
   "display_name": "Python 2",
   "language": "python",
   "name": "python2"
  },
  "language_info": {
   "codemirror_mode": {
    "name": "ipython",
    "version": 2
   },
   "file_extension": ".py",
   "mimetype": "text/x-python",
   "name": "python",
   "nbconvert_exporter": "python",
   "pygments_lexer": "ipython2",
   "version": "2.7.6"
  }
 },
 "nbformat": 4,
 "nbformat_minor": 0
}
